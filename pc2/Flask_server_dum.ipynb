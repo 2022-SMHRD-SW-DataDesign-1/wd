{
 "cells": [
  {
   "cell_type": "code",
   "execution_count": null,
   "id": "9ae8f24f",
   "metadata": {},
   "outputs": [
    {
     "name": "stdout",
     "output_type": "stream",
     "text": [
      "[wandlab]  OpenCL :  False\n",
      " * Serving Flask app '__main__'\n",
      " * Debug mode: off\n"
     ]
    },
    {
     "name": "stderr",
     "output_type": "stream",
     "text": [
      "WARNING: This is a development server. Do not use it in a production deployment. Use a production WSGI server instead.\n",
      " * Running on http://172.30.1.6:5000\n",
      "Press CTRL+C to quit\n",
      "172.30.1.6 - - [13/Feb/2023 09:19:04] \"GET / HTTP/1.1\" 404 -\n",
      "172.30.1.6 - - [13/Feb/2023 09:19:04] \"GET /favicon.ico HTTP/1.1\" 404 -\n",
      "172.30.1.6 - - [13/Feb/2023 09:19:06] \"GET /stream HTTP/1.1\" 200 -\n"
     ]
    }
   ],
   "source": [
    "from flask import Flask\n",
    "from flask import request\n",
    "from flask import Response\n",
    "from flask import stream_with_context\n",
    "from streamer import Streamer\n",
    "import socket\n",
    "import pickle\n",
    "import struct\n",
    "import cv2\n",
    "from flask import render_template\n",
    "\n",
    "app = Flask( __name__ )\n",
    "streamer = Streamer()\n",
    "ip = '172.30.1.52'\n",
    "port = 50001\n",
    "client_socket = socket.socket(socket.AF_INET, socket.SOCK_DGRAM)\n",
    "client_socket.connect((ip, port))\n",
    "streamer.run(0)\n",
    "@app.route('/stream')\n",
    "def stream():\n",
    "    #p_address = flask.request.remote_addr\n",
    "    src = request.args.get( 'src', default = 0, type = int )\n",
    "    try :\n",
    "        return Response(stream_with_context( stream_gen( src ) ),mimetype='multipart/x-mixed-replace; boundary=frame' )\n",
    "    except Exception as e :\n",
    "        print('[wandlab] ', 'stream error : ',str(e))\n",
    "        \n",
    "        \n",
    "def stream_gen( src ):   \n",
    "    try :  \n",
    "        \n",
    "        while True :\n",
    "            frame = streamer.bytescode()\n",
    "            socket_frame = streamer.socket_frame()\n",
    "            #print(\"socket_frame\",socket_frame)\n",
    "            client_socket.sendall(struct.pack(\">L\", len(socket_frame)) + socket_frame)\n",
    "            #print(\"socket_frame send 성공\")\n",
    "            yield (b'--frame\\r\\n'\n",
    "                   b'Content-Type: image/jpeg\\r\\n\\r\\n' + frame + b'\\r\\n')\n",
    "    except GeneratorExit :\n",
    "        print( '[wandlab]', 'disconnected stream' )\n",
    "        #treamer.stop()\n",
    "if __name__ == '__main__' :\n",
    "    app.run(host='172.30.1.6', port=5000 )"
   ]
  },
  {
   "cell_type": "code",
   "execution_count": null,
   "id": "c6e69e0b",
   "metadata": {},
   "outputs": [],
   "source": []
  }
 ],
 "metadata": {
  "kernelspec": {
   "display_name": "Python 3 (ipykernel)",
   "language": "python",
   "name": "python3"
  },
  "language_info": {
   "codemirror_mode": {
    "name": "ipython",
    "version": 3
   },
   "file_extension": ".py",
   "mimetype": "text/x-python",
   "name": "python",
   "nbconvert_exporter": "python",
   "pygments_lexer": "ipython3",
   "version": "3.7.16"
  }
 },
 "nbformat": 4,
 "nbformat_minor": 5
}
